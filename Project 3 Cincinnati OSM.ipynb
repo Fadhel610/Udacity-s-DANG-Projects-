{
 "cells": [
  {
   "cell_type": "markdown",
   "metadata": {},
   "source": []
  },
  {
   "cell_type": "markdown",
   "metadata": {},
   "source": [
    "# Wrangling OSM Data.\n",
    "---"
   ]
  },
  {
   "cell_type": "markdown",
   "metadata": {
    "collapsed": true
   },
   "source": [
    "## Map Area \n",
    "Cincinnati, OH, USA\n",
    "* [Map zen](https://mapzen.com/data/metro-extracts/your-extracts/91001a3b94af)\n",
    "* [Open Street Map](https://www.openstreetmap.org/relation/183453#map=12/39.1369/-84.5405)\n",
    "\n",
    "I'm currently an international student at University of Cincinnati and thus I chose this city to see what I get from it.\n",
    "\n",
    "---"
   ]
  },
  {
   "cell_type": "markdown",
   "metadata": {},
   "source": [
    "# Problems\n",
    "* **There was no problematic Character **:\n",
    "\n",
    "  ```python\n",
    "  {'problemchars': 0, 'lower': 124871, 'other': 1866, 'lower_colon': 45631} ```\n",
    "  \n",
    "* **The over abbreviated / lower case street names were:**\n",
    "     ```python\n",
    "     {'st', 'Rd', 'Ave', 'avenue'} ```\n",
    "* **Not expected street types :**\n",
    "     ```python\n",
    "     {'Way', 'Plaza', 'Circle', 'Hill','Warner'}```\n",
    "* **There were some zip codes from outside the city; Cincinnati start with 452 :**\n",
    "     ```python \n",
    "     ['41073', '41071', '41075', '41074', '41011','45150']```\n",
    "* **Some zip codes were written in a wrong way :**\n",
    "   ```python\n",
    "   ['45220-1405', '45223-1806','45208-2101','45220-1129', '45208-2017'] ```\n",
    "\n",
    "\n",
    "\n"
   ]
  },
  {
   "cell_type": "markdown",
   "metadata": {},
   "source": [
    "# Fixing the Problem \n",
    "\n",
    "1. ** I fixed the shortcut by updating the mapping dictionary**\n",
    "``` python\n",
    "# Fixing shortcuts/ lower cases\n",
    "mapping = { \"St\": \"Street\",\n",
    "            'Ave': \"Avenue\",\n",
    "            \"avenue\":\"Avenue\",\n",
    "            'Rd.':'Road'\n",
    "            }\n",
    "def update_name(name, mapping):\n",
    "    for k, v in mapping.iteritems():\n",
    "        for word in name.split():\n",
    "            if word == k:\n",
    "                name = name.replace(k,v,1)\n",
    "                break\n",
    "        return name \n",
    "      ```\n",
    "2. **I added the unexpected types to my checking list**\n",
    " ``` python       \n",
    "# 2. Expected list updated \n",
    "Expected = [\"Street\", \"Avenue\", \"Boulevard\", \"Drive\", \"Court\", \"Place\", \"Square\", \"Lane\", \"Road\", \n",
    "            \"Trail\", \"Parkway\", \"Commons\",\"Plaza\",\"Hill\",'Ludlow','Way','Circle','Warner']        \n",
    "```\n",
    "3. **I Fixed the zip codes by taking only the first five characters **\n",
    "``` python\n",
    "# 3.  Fixing the zip codes \n",
    "''' LOOP'''\n",
    " elif is_postcode(tag):\n",
    "     if len(tag.attrib['v']) !=5:\n",
    "         tag.set('v', tag.attrib['v'][0:5])\n",
    "```\n",
    "4. **I don't know how to remove the strange zip codes; a whole node.**\n",
    "\n",
    "---"
   ]
  },
  {
   "cell_type": "markdown",
   "metadata": {},
   "source": [
    "# Sqlite3 Work"
   ]
  },
  {
   "cell_type": "code",
   "execution_count": 7,
   "metadata": {
    "collapsed": true
   },
   "outputs": [],
   "source": [
    "import sqlite3\n",
    "import sys\n",
    "from tabulate import tabulate # For nice representation of the results"
   ]
  },
  {
   "cell_type": "markdown",
   "metadata": {},
   "source": [
    "## Zip Code Counts"
   ]
  },
  {
   "cell_type": "code",
   "execution_count": 11,
   "metadata": {},
   "outputs": [
    {
     "name": "stdout",
     "output_type": "stream",
     "text": [
      "╒════════════╤═════════╕\n",
      "│   Zip Code │   Count │\n",
      "╞════════════╪═════════╡\n",
      "│      45202 │     401 │\n",
      "├────────────┼─────────┤\n",
      "│      45219 │      69 │\n",
      "├────────────┼─────────┤\n",
      "│      45208 │      63 │\n",
      "├────────────┼─────────┤\n",
      "│      45220 │      28 │\n",
      "├────────────┼─────────┤\n",
      "│      45223 │      19 │\n",
      "╘════════════╧═════════╛\n"
     ]
    }
   ],
   "source": [
    "# Opening the file\n",
    "conn  = sqlite3.connect('Cincinnati')\n",
    "c = conn.cursor()\n",
    "\n",
    "# Here I need to combine the ways and nodes table then get from that the values where the key is named 'postcode'\n",
    "c.execute(\"SELECT tags.value, COUNT(*) as count FROM (SELECT * FROM nodes_tags UNION ALL SELECT * FROM ways_tags) \\\n",
    "tags WHERE tags.key='postcode' GROUP BY tags.value ORDER BY count DESC LIMIT 5 ;\")\n",
    "# Delete the limit to see all the zip codes and make sense out of the Observation section.\n",
    "\n",
    "post = c.fetchall()\n",
    "Top_post=[]\n",
    "for row in post:\n",
    "    Top_post.append(list(row))\n",
    "print tabulate(Top_post, headers=['Zip Code', 'Count'], tablefmt='fancy_grid')\n",
    "\n"
   ]
  },
  {
   "cell_type": "markdown",
   "metadata": {},
   "source": [
    "## Top 10 Contributors"
   ]
  },
  {
   "cell_type": "code",
   "execution_count": 12,
   "metadata": {
    "scrolled": true
   },
   "outputs": [
    {
     "name": "stdout",
     "output_type": "stream",
     "text": [
      "╒═════════════════╤══════════════════╕\n",
      "│ Name            │   Contributtions │\n",
      "╞═════════════════╪══════════════════╡\n",
      "│ Minh Nguyen     │           244760 │\n",
      "├─────────────────┼──────────────────┤\n",
      "│ Nate_Wessel     │            94439 │\n",
      "├─────────────────┼──────────────────┤\n",
      "│ lrhill          │            40176 │\n",
      "├─────────────────┼──────────────────┤\n",
      "│ woodpeck_fixbot │            29686 │\n",
      "├─────────────────┼──────────────────┤\n",
      "│ MichaelGSmith   │             8768 │\n",
      "├─────────────────┼──────────────────┤\n",
      "│ reportingsjr    │             8733 │\n",
      "├─────────────────┼──────────────────┤\n",
      "│ gmensch         │             7918 │\n",
      "├─────────────────┼──────────────────┤\n",
      "│ Chris Davis     │             4969 │\n",
      "├─────────────────┼──────────────────┤\n",
      "│ lightbulbsrwarm │             2997 │\n",
      "├─────────────────┼──────────────────┤\n",
      "│ Robin Daugherty │             1265 │\n",
      "╘═════════════════╧══════════════════╛\n"
     ]
    }
   ],
   "source": [
    "# Here I need to combine the nodes and ways tables and get from that the number of time each user appeared.\n",
    "c.execute(\"SELECT u.user, COUNT(*) as num FROM (SELECT user FROM nodes UNION ALL SELECT user FROM ways) u GROUP \\\n",
    "BY u.user ORDER BY num DESC LIMIT 10;\")\n",
    "user_cont =[]\n",
    "\n",
    "rows = c.fetchall()\n",
    "for row in rows:\n",
    "    user_cont.append(list(row))\n",
    "    \n",
    "print tabulate(user_cont, headers=['Name', 'Contributtions'], tablefmt='fancy_grid')\n"
   ]
  },
  {
   "cell_type": "markdown",
   "metadata": {},
   "source": [
    "## Some Statistics"
   ]
  },
  {
   "cell_type": "code",
   "execution_count": 13,
   "metadata": {
    "scrolled": true
   },
   "outputs": [
    {
     "name": "stdout",
     "output_type": "stream",
     "text": [
      "╒══════════╤════════╕\n",
      "│ Object   │      # │\n",
      "╞══════════╪════════╡\n",
      "│ Ways     │  70361 │\n",
      "├──────────┼────────┤\n",
      "│ Nodes    │ 387282 │\n",
      "├──────────┼────────┤\n",
      "│ Users    │    331 │\n",
      "╘══════════╧════════╛\n"
     ]
    }
   ],
   "source": [
    "# Ways\n",
    "c.execute(\"SELECT COUNT(*) FROM ways;\")\n",
    "ways = c.fetchall()\n",
    "Stat=[]\n",
    "Stat.append(['Ways',ways[0][0]])\n",
    "\n",
    "# Nodes\n",
    "c.execute(\"SELECT COUNT(*) FROM nodes;\")\n",
    "nodes = c.fetchall()\n",
    "Stat.append(['Nodes',nodes[0][0]])\n",
    "\n",
    "#Users, to count the number of user I need to count the number of unique uid from nodes and ways tables.\n",
    "c.execute(\"SELECT COUNT(DISTINCT(id.uid)) FROM (SELECT uid FROM nodes UNION ALL SELECT uid FROM ways) id;\")\n",
    "Num_users = c.fetchall()\n",
    "Stat.append(['Users',Num_users[0][0]])\n",
    "\n",
    "print tabulate(Stat, headers=['Object', '#'], tablefmt='fancy_grid')\n",
    "\n"
   ]
  },
  {
   "cell_type": "markdown",
   "metadata": {},
   "source": [
    "## Amenities Count"
   ]
  },
  {
   "cell_type": "code",
   "execution_count": 14,
   "metadata": {},
   "outputs": [
    {
     "name": "stdout",
     "output_type": "stream",
     "text": [
      "╒═══════════╤═════╕\n",
      "│ Amenity   │   # │\n",
      "╞═══════════╪═════╡\n",
      "│ bicyc     │ 131 │\n",
      "├───────────┼─────┤\n",
      "│ place     │ 127 │\n",
      "├───────────┼─────┤\n",
      "│ resta     │ 121 │\n",
      "├───────────┼─────┤\n",
      "│ bench     │ 110 │\n",
      "├───────────┼─────┤\n",
      "│ drink     │  90 │\n",
      "├───────────┼─────┤\n",
      "│ cafe      │  60 │\n",
      "├───────────┼─────┤\n",
      "│ fast_     │  43 │\n",
      "├───────────┼─────┤\n",
      "│ schoo     │  43 │\n",
      "├───────────┼─────┤\n",
      "│ fuel      │  28 │\n",
      "├───────────┼─────┤\n",
      "│ parki     │  26 │\n",
      "╘═══════════╧═════╛\n"
     ]
    }
   ],
   "source": [
    "# Here I need to get the values from node_tags table where the key is named 'amenity'\n",
    "c.execute(\"SELECT value, COUNT(*) as num \\\n",
    "FROM nodes_tags \\\n",
    "WHERE key='amenity' \\\n",
    "GROUP BY value \\\n",
    "ORDER BY num DESC \\\n",
    "LIMIT 10;\")\n",
    "amenites = c.fetchall()\n",
    "Amenity=[]\n",
    "for row in amenites:\n",
    "    Amenity.append(list(row))\n",
    "print tabulate(Amenity, headers=['Amenity', '#'], tablefmt='fancy_grid')\n"
   ]
  },
  {
   "cell_type": "markdown",
   "metadata": {},
   "source": [
    "** I see that the names are not complete and could be improved by editing them. However, I think that is done to save some space, I would leave them as they are; they can be understood and are consistent. **\n",
    "\n",
    "---"
   ]
  },
  {
   "cell_type": "markdown",
   "metadata": {},
   "source": [
    "# Observation\n",
    " Something interesting I found in the count of the zip codes. While I was expecting that the count of each zip code will reflect the number of people living there, it was not! The top two zip codes are in fact has really low population compared to the rest of the zip codes.\n",
    "My guessing is that the age and education is the hidden factor here; the count of the zip codes reflect the age distribution and the education there. To see if I'm right, I went to [zipatlas.com](http://zipatlas.com/us/oh/cincinnati.htm) to see the location and the age distribution of some of the zip codes.\n",
    "\n",
    "I was right. The top two zip codes, [45202](http://zipatlas.com/us/oh/cincinnati/zip-45202.htm) and [45219](http://zipatlas.com/us/oh/cincinnati/zip-45219.htm), are located near [University of Cincinnati](https://goo.gl/maps/Ph5UJZbxa4p) (UC) and most people are between 20 and 30 in age, and I believe that most of them were once studying at UC. On the other hand, [45211](http://zipatlas.com/us/oh/cincinnati/zip-45211.htm), the most populated zip code, is far away from UC and most people are over 30 in age.\n",
    "\n",
    "I am saying this because bothering about contributing to OSM needs someone who is first aware that OSM even exists and second can deal with it.\n",
    "\n",
    "It is really hard to think of a solution for this unbalance. I might say that the contributors get extra credit if they put information about the locations that are important but has little information.\n",
    "\n",
    "\n",
    "### Implementing the solution\n",
    "* **Benefit**\n",
    "    * The data are clearly not even close to complete and encouraging more contributions will help in completing the data.\n",
    "   \n",
    "* **Difficulties**\n",
    "   * Obviously you can not contribut unless you know what are you doing, and people usually don't know alot about further location.\n",
    "   * Some, or many, of those who could contribute are either foreign students or comming from different states, so they don't know much about the far locations from UC.\n",
    "   \n",
    "---"
   ]
  },
  {
   "cell_type": "markdown",
   "metadata": {
    "collapsed": true
   },
   "source": [
    "## File sizes\n",
    "\n",
    "* Cincinnati.xml  ---> 89.6MB  <-- (The raw file)\n",
    "* Cincinnati.db   ---> 61.5MB <-- (The SQL file)\n",
    "* nodes.csv      -------> 32.7MB\n",
    "* nodes_tags.csv --> 674KB\n",
    "* ways.csv     ---------> 4.3MB\n",
    "* ways_tags.csv  -----> 5.6MB\n",
    "* ways_nodes.cv  -----> 11.8MB\n"
   ]
  }
 ],
 "metadata": {
  "kernelspec": {
   "display_name": "Python 2",
   "language": "python",
   "name": "python2"
  },
  "language_info": {
   "codemirror_mode": {
    "name": "ipython",
    "version": 2
   },
   "file_extension": ".py",
   "mimetype": "text/x-python",
   "name": "python",
   "nbconvert_exporter": "python",
   "pygments_lexer": "ipython2",
   "version": "2.7.13"
  }
 },
 "nbformat": 4,
 "nbformat_minor": 2
}
